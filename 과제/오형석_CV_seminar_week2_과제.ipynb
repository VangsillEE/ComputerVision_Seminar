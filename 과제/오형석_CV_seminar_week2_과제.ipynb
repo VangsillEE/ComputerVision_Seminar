{
  "nbformat": 4,
  "nbformat_minor": 0,
  "metadata": {
    "colab": {
      "provenance": [],
      "include_colab_link": true
    },
    "kernelspec": {
      "name": "python3",
      "display_name": "Python 3"
    },
    "language_info": {
      "name": "python"
    }
  },
  "cells": [
    {
      "cell_type": "markdown",
      "metadata": {
        "id": "view-in-github",
        "colab_type": "text"
      },
      "source": [
        "<a href=\"https://colab.research.google.com/github/VangsillEE/ComputerVision_Seminar/blob/main/%EA%B3%BC%EC%A0%9C/%EC%98%A4%ED%98%95%EC%84%9D_CV_seminar_week2_%EA%B3%BC%EC%A0%9C.ipynb\" target=\"_parent\"><img src=\"https://colab.research.google.com/assets/colab-badge.svg\" alt=\"Open In Colab\"/></a>"
      ]
    },
    {
      "cell_type": "code",
      "source": [
        "from google.colab import drive\n",
        "drive.mount('/content/drive')"
      ],
      "metadata": {
        "colab": {
          "base_uri": "https://localhost:8080/"
        },
        "id": "YCzUuyi6OiLd",
        "outputId": "942c493e-a4b0-462f-ab49-63947837a951"
      },
      "execution_count": null,
      "outputs": [
        {
          "output_type": "stream",
          "name": "stdout",
          "text": [
            "Mounted at /content/drive\n"
          ]
        }
      ]
    },
    {
      "cell_type": "code",
      "execution_count": null,
      "metadata": {
        "colab": {
          "base_uri": "https://localhost:8080/",
          "height": 35
        },
        "id": "E2TWPuMpseuR",
        "outputId": "825ac4aa-9fab-4e72-8bfb-0631254f8a02"
      },
      "outputs": [
        {
          "output_type": "execute_result",
          "data": {
            "text/plain": [
              "'/content'"
            ],
            "application/vnd.google.colaboratory.intrinsic+json": {
              "type": "string"
            }
          },
          "metadata": {},
          "execution_count": 2
        }
      ],
      "source": [
        "pwd"
      ]
    },
    {
      "cell_type": "code",
      "source": [
        "%cd /content/drive/MyDrive/CV_seminar_project "
      ],
      "metadata": {
        "id": "-SIaEn2zshW_",
        "colab": {
          "base_uri": "https://localhost:8080/"
        },
        "outputId": "b3c5745f-94ad-4fe8-826b-ee2777da3568"
      },
      "execution_count": null,
      "outputs": [
        {
          "output_type": "stream",
          "name": "stdout",
          "text": [
            "/content/drive/MyDrive/CV_seminar_project\n"
          ]
        }
      ]
    },
    {
      "cell_type": "code",
      "source": [
        "pwd"
      ],
      "metadata": {
        "colab": {
          "base_uri": "https://localhost:8080/",
          "height": 35
        },
        "id": "7H8lfjx2shUa",
        "outputId": "5df186d7-ef04-4838-9749-1e44e4207836"
      },
      "execution_count": null,
      "outputs": [
        {
          "output_type": "execute_result",
          "data": {
            "text/plain": [
              "'/content/drive/MyDrive/CV_seminar_project'"
            ],
            "application/vnd.google.colaboratory.intrinsic+json": {
              "type": "string"
            }
          },
          "metadata": {},
          "execution_count": 6
        }
      ]
    },
    {
      "cell_type": "code",
      "source": [
        "import glob\n",
        "'''glob 함수를 이용하면, 해당 경로에 있는 파일들의 경로를 전부 리스트로 얻어올 수 있습니다. glob 라이브러리를 이용하여 이번 과제를 해결해주세요.'''\n",
        "dolphin_img_list = glob.glob('/content/drive/MyDrive/CV_seminar_project/original/dolphin/*')\n",
        "shark_img_list = glob.glob('/content/drive/MyDrive/CV_seminar_project/original/shark/*')\n",
        "whale_img_list = glob.glob('/content/drive/MyDrive/CV_seminar_project/original/whale/*')\n",
        "\n",
        "dic = {'dolphin':dolphin_img_list, 'shark': shark_img_list, 'whale': whale_img_list}\n",
        "for key in dic.keys():\n",
        "  print(f'{key}이미지가 ',len(dic[key]), '개 있습니다.')\n",
        "print('------------------------------------------------------------------------')\n",
        "\n",
        "length_list = []\n",
        "for key in dic.keys():\n",
        "  print(f'{key}이미지는 trian, valid, test셋에 대해 ',int(len(dic[key])*0.7), int(len(dic[key])*0.2), int(len(dic[key])*0.1), '개씩 배정해주세요.')\n",
        "  length_list.append([int(len(dic[key])*0.7), int(len(dic[key])*0.2), int(len(dic[key])*0.1)])\n",
        "dolphin_img_list"
      ],
      "metadata": {
        "colab": {
          "base_uri": "https://localhost:8080/"
        },
        "id": "c1s5GjHAshR-",
        "outputId": "fb131d94-037d-4c16-b9c1-95bf4cb98f71"
      },
      "execution_count": null,
      "outputs": [
        {
          "output_type": "stream",
          "name": "stdout",
          "text": [
            "dolphin이미지가  1 개 있습니다.\n",
            "shark이미지가  2 개 있습니다.\n",
            "whale이미지가  1 개 있습니다.\n",
            "------------------------------------------------------------------------\n",
            "dolphin이미지는 trian, valid, test셋에 대해  0 0 0 개씩 배정해주세요.\n",
            "shark이미지는 trian, valid, test셋에 대해  1 0 0 개씩 배정해주세요.\n",
            "whale이미지는 trian, valid, test셋에 대해  0 0 0 개씩 배정해주세요.\n"
          ]
        },
        {
          "output_type": "execute_result",
          "data": {
            "text/plain": [
              "['/content/drive/MyDrive/CV_seminar_project/original/dolphin/dolphin_311.jpg']"
            ]
          },
          "metadata": {},
          "execution_count": 9
        }
      ]
    },
    {
      "cell_type": "code",
      "source": [
        "import os\n",
        "import glob\n",
        "import cv2\n",
        "import time\n",
        "import random #리스트 랜덤 추출\n",
        "\n",
        "class Make_dataset_dir():\n",
        "  def __init__(self, root_dir):\n",
        "    '''클래스 내의 인자 생성 함수입니다. 아래의 인자들을 이용하여, 금주의 과제를 해결해주세요.'''\n",
        "    self.root_path = root_dir+'/' if root_dir[-1] != '/' else root_dir # 현재 진행할 프로젝트 -> root path는 /content/drive/MyDrive/CV_seminar_project/ 가 되어야합니다.\n",
        "    self.img_path_list = root_dir+'original' # 전달한 이미지들의 상위 경로\n",
        "    self.trainset_path = root_dir+'train/'\n",
        "    self.validset_path = root_dir+'valid/'\n",
        "    self.testset_path = root_dir+'test/'\n",
        "    self.class_list = ['dolphin', 'shark', 'whale']\n",
        "\n",
        "  def mk_dir(self):\n",
        "    '''train, valid, test 폴더를 만들고, 내부에는 클래스 별 폴더를 추가로 만들어 주세요.'''\n",
        "    os.mkdir(self.trainset_path)\n",
        "    os.mkdir(self.validset_path)\n",
        "    os.mkdir(self.testset_path)\n",
        "    for name in self.class_list:\n",
        "      os.mkdir(self.trainset_path + name)\n",
        "      os.mkdir(self.validset_path + name)\n",
        "      os.mkdir(self.testset_path + name)\n",
        "\n",
        "  def move_img(self):\n",
        "    '''mk_dir에서 만든 폴더들에 각 클래스에 맞는 이미지를 배당해주세요. train, valid, test에 각각 7: 2: 1'''\n",
        "    for animal in [dolphin_img_list, shark_img_list, whale_img_list]:\n",
        "      random.shuffle(animal)\n",
        "      n_train = int(len(animal)*0.7) \n",
        "      n_valid = int(len(animal)*0.2)\n",
        "      n_test = int(len(animal)*0.1)\n",
        "      # n_test +=len(animal) - (n_train + n_valid + n_test) \n",
        "      print(\"{}, {}, {} 합:{}, 원래길이:{}\".format(n_train, n_valid, n_test, n_train + n_valid + n_test, len(animal)))\n",
        "      num = [0,n_train ,n_train+n_valid, n_train + n_valid + n_test]\n",
        "      for i, var in enumerate([\"train\", \"valid\", \"test\"]):\n",
        "        for file in animal[num[i]:num[i+1]]:\n",
        "          to_file = file.split('/')\n",
        "          to_file[5] = var\n",
        "          to_file=\"/\".join(to_file)\n",
        "          os.rename(file, to_file)\n",
        "\n",
        "  def run(self):\n",
        "    '''run 함수를 돌리면, 모든 작업이 완료될 수 있게끔 mk_dir 함수와 move_img 함수를 생성해주시면 됩니다.'''\n",
        "    start = time.time()\n",
        "    self.mk_dir()\n",
        "    self.move_img()\n",
        "    print('총 소요시간: ', time.time()-start)\n",
        "\n",
        "  def checking_dirs(self):\n",
        "    '''데이터가 잘 스플릿 되었는지 확인하는 함수입니다. trian, valid, test 디렉토리에 데이터가 잘 들어가 있는지 개수를 확인하는 함수를 생성해주시면 됩니다.'''\n",
        "    animals = [\"dolphin\", \"shark\", \"whale\"]\n",
        "    datatypes = [\"train\", \"valid\", \"test\"]\n",
        "    for anis in animals:\n",
        "      for datatype in datatypes:\n",
        "        list_fp = ['','content','drive','MyDrive','CV_seminar_project','데이터 종류','동물','*']\n",
        "        list_fp[5] = datatype\n",
        "        list_fp[6] = anis\n",
        "        fp = \"/\".join(list_fp)\n",
        "        ani_img_list = glob.glob(fp)\n",
        "        print(\"동물: {}, 데이터 종류: {}, 데이터 크기: {}\".format(anis, datatype,len(ani_img_list)))"
      ],
      "metadata": {
        "id": "Om1MmtwNshPq"
      },
      "execution_count": null,
      "outputs": []
    },
    {
      "cell_type": "code",
      "source": [
        "cv = Make_dataset_dir(\"/content/drive/MyDrive/CV_seminar_project/\")\n",
        "cv.run()\n",
        "cv.checking_dirs()"
      ],
      "metadata": {
        "id": "z4TGuUuXKDJf",
        "colab": {
          "base_uri": "https://localhost:8080/"
        },
        "outputId": "b944ce39-1a34-4f4c-ed04-27f2988d5cb8"
      },
      "execution_count": null,
      "outputs": [
        {
          "output_type": "stream",
          "name": "stdout",
          "text": [
            "261, 74, 37 합:372, 원래길이:373\n",
            "341, 97, 48 합:486, 원래길이:488\n",
            "315, 90, 45 합:450, 원래길이:451\n",
            "총 소요시간:  4.348692417144775\n",
            "동물: dolphin, 데이터 종류: train, 데이터 크기: 261\n",
            "동물: dolphin, 데이터 종류: valid, 데이터 크기: 74\n",
            "동물: dolphin, 데이터 종류: test, 데이터 크기: 37\n",
            "동물: shark, 데이터 종류: train, 데이터 크기: 341\n",
            "동물: shark, 데이터 종류: valid, 데이터 크기: 97\n",
            "동물: shark, 데이터 종류: test, 데이터 크기: 48\n",
            "동물: whale, 데이터 종류: train, 데이터 크기: 315\n",
            "동물: whale, 데이터 종류: valid, 데이터 크기: 90\n",
            "동물: whale, 데이터 종류: test, 데이터 크기: 45\n"
          ]
        }
      ]
    }
  ]
}